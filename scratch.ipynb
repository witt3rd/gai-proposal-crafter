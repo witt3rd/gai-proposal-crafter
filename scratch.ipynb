{
 "cells": [
  {
   "cell_type": "code",
   "execution_count": 1,
   "metadata": {},
   "outputs": [],
   "source": [
    "import tiktoken\n",
    "\n",
    "encoding = tiktoken.encoding_for_model(\"gpt-3.5-turbo\")"
   ]
  },
  {
   "cell_type": "code",
   "execution_count": 3,
   "metadata": {},
   "outputs": [],
   "source": [
    "with open('./data/rfp.txt', 'r') as f:\n",
    "    input_text = f.read()"
   ]
  },
  {
   "cell_type": "code",
   "execution_count": 4,
   "metadata": {},
   "outputs": [
    {
     "data": {
      "text/plain": [
       "629"
      ]
     },
     "execution_count": 4,
     "metadata": {},
     "output_type": "execute_result"
    }
   ],
   "source": [
    "enc = encoding.encode(input_text)\n",
    "len(enc)"
   ]
  },
  {
   "cell_type": "code",
   "execution_count": 7,
   "metadata": {},
   "outputs": [
    {
     "data": {
      "text/plain": [
       "['Marketing and Sales optimization',\n",
       " 'Customer Services enhancement',\n",
       " 'Operations streamlining',\n",
       " 'IT/Engineering efficiency improvement',\n",
       " 'HR process optimization',\n",
       " 'Finance optimization',\n",
       " 'Risk and Legal management enhancement',\n",
       " 'R&D acceleration']"
      ]
     },
     "execution_count": 7,
     "metadata": {},
     "output_type": "execute_result"
    }
   ],
   "source": [
    "import string\n",
    "\n",
    "use_cases_text = \"The client's use cases for leveraging Generative AI technologies (e.g., ChatGPT) in their business operations include:\\n\\n1. Marketing and Sales optimization\\n2. Customer Services enhancement\\n3. Operations streamlining\\n4. IT/Engineering efficiency improvement\\n5. HR process optimization\\n6. Finance optimization\\n7. Risk and Legal management enhancement\\n8. R&D acceleration\"\n",
    "\n",
    "\n",
    "def parse_numbered_list(text):\n",
    "    lines = text.splitlines()\n",
    "    lines = [line.strip() for line in lines]\n",
    "    lines = [line for line in lines if line]\n",
    "    lines = [line for line in lines if line[0] in string.digits]\n",
    "    lines = [line[2:].strip() for line in lines]\n",
    "    return lines\n",
    "\n",
    "\n",
    "parse_numbered_list(use_cases_text)"
   ]
  },
  {
   "cell_type": "code",
   "execution_count": 9,
   "metadata": {},
   "outputs": [
    {
     "data": {
      "text/plain": [
       "'g_p_t-3.5 _turbo'"
      ]
     },
     "execution_count": 9,
     "metadata": {},
     "output_type": "execute_result"
    }
   ],
   "source": [
    "from camel_converter import to_snake\n",
    "\n",
    "to_snake(\"GPT-3.5 Turbo\")"
   ]
  }
 ],
 "metadata": {
  "kernelspec": {
   "display_name": "fuel",
   "language": "python",
   "name": "python3"
  },
  "language_info": {
   "codemirror_mode": {
    "name": "ipython",
    "version": 3
   },
   "file_extension": ".py",
   "mimetype": "text/x-python",
   "name": "python",
   "nbconvert_exporter": "python",
   "pygments_lexer": "ipython3",
   "version": "3.11.4"
  },
  "orig_nbformat": 4
 },
 "nbformat": 4,
 "nbformat_minor": 2
}
